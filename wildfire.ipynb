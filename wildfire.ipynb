{
 "cells": [
  {
   "cell_type": "code",
   "execution_count": 125,
   "id": "initial_id",
   "metadata": {
    "collapsed": true,
    "ExecuteTime": {
     "end_time": "2024-11-20T23:24:13.089324639Z",
     "start_time": "2024-11-20T23:24:13.082879047Z"
    }
   },
   "outputs": [],
   "source": [
    "import os\n",
    "from pathlib import Path\n",
    "from zipfile import ZipFile\n",
    "import urllib.request\n",
    "\n",
    "import torch\n",
    "from tfrecord.torch.dataset import MultiTFRecordDataset\n",
    "\n",
    "# parameters\n",
    "BATCH_SIZE=256\n",
    "FEATURES = [\n",
    "    \"elevation\",\n",
    "    \"th\",\n",
    "    \"vs\",\n",
    "    \"tmmn\",\n",
    "    \"tmmx\",\n",
    "    \"sph\",\n",
    "    \"pr\",\n",
    "    \"pdsi\",\n",
    "    \"NDVI\",\n",
    "    \"population\",\n",
    "    \"erc\",\n",
    "    \"PrevFireMask\",\n",
    "]\n",
    "LABELS = [\"FireMask\"]\n",
    "\n",
    "ARR_SIZE = 4096\n",
    "LENGTH, WIDTH = 64, 64"
   ]
  },
  {
   "cell_type": "code",
   "outputs": [],
   "source": [
    "# set up data directory\n",
    "data_dir = os.path.join(os.path.abspath(\".\"), \"data\")\n",
    "Path(data_dir).mkdir(parents=True, exist_ok=True)"
   ],
   "metadata": {
    "collapsed": false,
    "ExecuteTime": {
     "end_time": "2024-11-20T23:20:48.801001131Z",
     "start_time": "2024-11-20T23:20:48.794896227Z"
    }
   },
   "id": "ff2dfb72661e35c3",
   "execution_count": 103
  },
  {
   "cell_type": "code",
   "outputs": [],
   "source": [
    "# download data zip\n",
    "data_zip = os.path.join(data_dir, \"archive.zip\")\n",
    "if not os.path.exists(data_zip):\n",
    "    url = \"https://www.kaggle.com/api/v1/datasets/download/fantineh/next-day-wildfire-spread\"\n",
    "    urllib.request.urlretrieve(url, data_zip)"
   ],
   "metadata": {
    "collapsed": false,
    "ExecuteTime": {
     "end_time": "2024-11-20T23:20:48.921314051Z",
     "start_time": "2024-11-20T23:20:48.879225583Z"
    }
   },
   "id": "d79e8f47ff6e7119",
   "execution_count": 104
  },
  {
   "cell_type": "code",
   "outputs": [],
   "source": [
    "# extract files from zip\n",
    "files = []\n",
    "with ZipFile(data_zip, \"r\") as z:\n",
    "    for file in z.namelist():\n",
    "        files.append(Path(file).stem)\n",
    "        if not os.path.exists(os.path.join(data_dir, file)):\n",
    "            z.extract(file, data_dir)"
   ],
   "metadata": {
    "collapsed": false,
    "ExecuteTime": {
     "end_time": "2024-11-20T23:20:49.059245031Z",
     "start_time": "2024-11-20T23:20:49.051190325Z"
    }
   },
   "id": "7f42ab0a55cc1f34",
   "execution_count": 105
  },
  {
   "cell_type": "code",
   "outputs": [],
   "source": [
    "# get all records into a data loader\n",
    "tfrecord_path = os.path.join(data_dir, \"{}.tfrecord\")\n",
    "dataset = MultiTFRecordDataset(\n",
    "    tfrecord_path, \n",
    "    None, \n",
    "    splits={file: 1.0 for file in files}\n",
    ")\n",
    "loader = torch.utils.data.DataLoader(dataset, batch_size=BATCH_SIZE)"
   ],
   "metadata": {
    "collapsed": false,
    "ExecuteTime": {
     "end_time": "2024-11-20T23:20:49.227949855Z",
     "start_time": "2024-11-20T23:20:49.221354918Z"
    }
   },
   "id": "80f91b40cc4b05ca",
   "execution_count": 106
  },
  {
   "cell_type": "code",
   "outputs": [],
   "source": [
    "data = next(iter(loader))"
   ],
   "metadata": {
    "collapsed": false,
    "ExecuteTime": {
     "end_time": "2024-11-20T23:20:50.232104998Z",
     "start_time": "2024-11-20T23:20:49.395452983Z"
    }
   },
   "id": "1e16ba8b8d02aecd",
   "execution_count": 107
  },
  {
   "cell_type": "code",
   "outputs": [
    {
     "data": {
      "text/plain": "torch.Size([256, 64, 64, 12])"
     },
     "execution_count": 133,
     "metadata": {},
     "output_type": "execute_result"
    }
   ],
   "source": [
    "# gather batch of features\n",
    "features = torch.cat([data[key][:, :, None] for key in FEATURES], dim=2)\n",
    "features = features.reshape(BATCH_SIZE, LENGTH, WIDTH, len(FEATURES))\n",
    "features.shape"
   ],
   "metadata": {
    "collapsed": false,
    "ExecuteTime": {
     "end_time": "2024-11-20T23:27:09.607129033Z",
     "start_time": "2024-11-20T23:27:09.553474435Z"
    }
   },
   "id": "405d5a1b7dad2da8",
   "execution_count": 133
  },
  {
   "cell_type": "code",
   "outputs": [
    {
     "data": {
      "text/plain": "torch.Size([256, 64, 64, 1])"
     },
     "execution_count": 134,
     "metadata": {},
     "output_type": "execute_result"
    }
   ],
   "source": [
    "# gather batch of label(s)\n",
    "labels = torch.cat([data[key][:, :, None] for key in LABELS], dim=2)\n",
    "labels = labels.reshape(BATCH_SIZE, LENGTH, WIDTH, len(LABELS))\n",
    "labels.shape"
   ],
   "metadata": {
    "collapsed": false,
    "ExecuteTime": {
     "end_time": "2024-11-20T23:27:09.754887293Z",
     "start_time": "2024-11-20T23:27:09.743341019Z"
    }
   },
   "id": "c81706a63f1dbf4d",
   "execution_count": 134
  }
 ],
 "metadata": {
  "kernelspec": {
   "display_name": "Python 3",
   "language": "python",
   "name": "python3"
  },
  "language_info": {
   "codemirror_mode": {
    "name": "ipython",
    "version": 2
   },
   "file_extension": ".py",
   "mimetype": "text/x-python",
   "name": "python",
   "nbconvert_exporter": "python",
   "pygments_lexer": "ipython2",
   "version": "2.7.6"
  }
 },
 "nbformat": 4,
 "nbformat_minor": 5
}
