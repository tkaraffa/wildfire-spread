{
 "cells": [
  {
   "cell_type": "code",
   "execution_count": 1,
   "id": "initial_id",
   "metadata": {
    "collapsed": true,
    "ExecuteTime": {
     "end_time": "2024-12-01T21:00:03.229109027Z",
     "start_time": "2024-12-01T21:00:03.220411384Z"
    }
   },
   "outputs": [],
   "source": [
    "%load_ext autoreload\n",
    "%autoreload 2"
   ]
  },
  {
   "cell_type": "code",
   "outputs": [],
   "source": [
    "import os\n",
    "from pathlib import Path\n",
    "from zipfile import ZipFile\n",
    "import urllib.request\n",
    "from collections import defaultdict\n",
    "\n",
    "import torch\n",
    "from torch import nn\n",
    "from tfrecord.torch.dataset import MultiTFRecordDataset\n",
    "\n",
    "import matplotlib.pyplot as plt\n",
    "from matplotlib import colors\n",
    "\n",
    "# parameters\n",
    "BATCH_SIZE=256\n",
    "FEATURES = [\n",
    "    \"elevation\",\n",
    "    \"th\",\n",
    "    \"vs\",\n",
    "    \"tmmn\",\n",
    "    \"tmmx\",\n",
    "    \"sph\",\n",
    "    \"pr\",\n",
    "    \"pdsi\",\n",
    "    \"NDVI\",\n",
    "    \"population\",\n",
    "    \"erc\",\n",
    "    \"PrevFireMask\",\n",
    "]\n",
    "LABELS = [\"FireMask\"]\n",
    "\n",
    "ARR_SIZE = 4096\n",
    "LENGTH, WIDTH = 64, 64"
   ],
   "metadata": {
    "collapsed": false,
    "ExecuteTime": {
     "end_time": "2024-12-01T21:00:04.496601318Z",
     "start_time": "2024-12-01T21:00:03.229231088Z"
    }
   },
   "id": "b50492fbd79c1a43",
   "execution_count": 2
  },
  {
   "cell_type": "code",
   "outputs": [],
   "source": [
    "# set up data directory\n",
    "data_dir = os.path.join(os.path.abspath(\".\"), \"data\")\n",
    "Path(data_dir).mkdir(parents=True, exist_ok=True)"
   ],
   "metadata": {
    "collapsed": false,
    "ExecuteTime": {
     "end_time": "2024-12-01T21:00:04.496973461Z",
     "start_time": "2024-12-01T21:00:04.495091909Z"
    }
   },
   "id": "ff2dfb72661e35c3",
   "execution_count": 3
  },
  {
   "cell_type": "code",
   "outputs": [],
   "source": [
    "# download data zip\n",
    "data_zip = os.path.join(data_dir, \"archive.zip\")\n",
    "if not os.path.exists(data_zip):\n",
    "    url = \"https://www.kaggle.com/api/v1/datasets/download/fantineh/next-day-wildfire-spread\"\n",
    "    urllib.request.urlretrieve(url, data_zip)"
   ],
   "metadata": {
    "collapsed": false,
    "ExecuteTime": {
     "end_time": "2024-12-01T21:00:04.497234262Z",
     "start_time": "2024-12-01T21:00:04.495206880Z"
    }
   },
   "id": "d79e8f47ff6e7119",
   "execution_count": 4
  },
  {
   "cell_type": "code",
   "outputs": [],
   "source": [
    "# extract files from zip\n",
    "files = defaultdict(list)\n",
    "file_types = [\"eval\", \"train\", \"test\"]\n",
    "with ZipFile(data_zip, \"r\") as z:\n",
    "    for file in z.namelist():\n",
    "        for file_type in file_types:\n",
    "            if file_type in file:\n",
    "                files[file_type].append(Path(file).stem)\n",
    "        if not os.path.exists(os.path.join(data_dir, file)):\n",
    "            z.extract(file, data_dir)"
   ],
   "metadata": {
    "collapsed": false,
    "ExecuteTime": {
     "end_time": "2024-12-01T21:00:04.497445794Z",
     "start_time": "2024-12-01T21:00:04.495271400Z"
    }
   },
   "id": "7f42ab0a55cc1f34",
   "execution_count": 5
  },
  {
   "cell_type": "code",
   "outputs": [],
   "source": [
    "# get all records into a data loader\n",
    "tfrecord_path = os.path.join(data_dir, \"{}.tfrecord\")\n",
    "def get_loader_from_file_type(files: list, file_types: list):\n",
    "    f = [file for file_type in file_types for file in files[file_type]][0:2]\n",
    "    dataset = MultiTFRecordDataset(\n",
    "    tfrecord_path, \n",
    "    None, \n",
    "    splits={file: 1.0 for file in f},\n",
    "    infinite=False\n",
    ")\n",
    "    loader = torch.utils.data.DataLoader(dataset, batch_size=BATCH_SIZE)\n",
    "    return loader\n",
    "train_loader = get_loader_from_file_type(files, [\"train\"])\n",
    "test_loader = get_loader_from_file_type(files, [\"test\", \"eval\"])"
   ],
   "metadata": {
    "collapsed": false,
    "ExecuteTime": {
     "end_time": "2024-12-01T21:00:04.497669865Z",
     "start_time": "2024-12-01T21:00:04.495312280Z"
    }
   },
   "id": "80f91b40cc4b05ca",
   "execution_count": 6
  },
  {
   "cell_type": "code",
   "outputs": [
    {
     "name": "stdout",
     "output_type": "stream",
     "text": [
      "torch.Size([256, 4096])\n",
      "torch.Size([256, 4096])\n"
     ]
    }
   ],
   "source": [
    "data = next(iter(train_loader))\n",
    "print(data['FireMask'].shape)\n",
    "\n",
    "data = next(iter(test_loader))\n",
    "print(data['FireMask'].shape)"
   ],
   "metadata": {
    "collapsed": false,
    "ExecuteTime": {
     "end_time": "2024-12-01T21:00:05.900874686Z",
     "start_time": "2024-12-01T21:00:04.495356781Z"
    }
   },
   "id": "8cbb6725e7f7f1a0",
   "execution_count": 7
  },
  {
   "cell_type": "code",
   "outputs": [],
   "source": [
    "def get_dataset_items(data, item_list, batch_size=BATCH_SIZE, length=LENGTH, width=WIDTH):\n",
    "    items = torch.cat([data[key][:, None, :] for key in item_list], dim=1)\n",
    "    items = items.reshape(items.shape[0], items.shape[1], length, width)\n",
    "    return items"
   ],
   "metadata": {
    "collapsed": false,
    "ExecuteTime": {
     "end_time": "2024-12-01T21:00:05.918077233Z",
     "start_time": "2024-12-01T21:00:05.894183635Z"
    }
   },
   "id": "ec455236b49dab19",
   "execution_count": 8
  },
  {
   "cell_type": "code",
   "outputs": [
    {
     "name": "stdout",
     "output_type": "stream",
     "text": [
      "torch.Size([256, 12, 64, 64])\n",
      "torch.Size([256, 1, 64, 64])\n"
     ]
    }
   ],
   "source": [
    "# gather batch of features\n",
    "features = get_dataset_items(data, FEATURES)\n",
    "labels = get_dataset_items(data, LABELS)\n",
    "print(features.shape)\n",
    "print(labels.shape)"
   ],
   "metadata": {
    "collapsed": false,
    "ExecuteTime": {
     "end_time": "2024-12-01T21:00:05.922300139Z",
     "start_time": "2024-12-01T21:00:05.904486669Z"
    }
   },
   "id": "405d5a1b7dad2da8",
   "execution_count": 9
  },
  {
   "cell_type": "code",
   "outputs": [
    {
     "name": "stdout",
     "output_type": "stream",
     "text": [
      "Epoch 1\n"
     ]
    }
   ],
   "source": [
    "from models.cnn import CNN\n",
    "model = CNN()\n",
    "loss_fn = nn.CrossEntropyLoss()\n",
    "optimizer = torch.optim.SGD(model.parameters())\n",
    "# def test(loader, model, loss_fn):\n",
    "#     model.eval()\n",
    "#     loss, correct = 0, 0\n",
    "#     with torch.no_grad():\n",
    "#         for i, data in enumerate(loader):\n",
    "#             features = get_dataset_items(data, FEATURES)\n",
    "#             labels = get_dataset_items(data, LABELS)\n",
    "#             # Compute prediction and loss\n",
    "#             pred = model(features)\n",
    "#             loss = loss_fn(pred, labels)\n",
    "#     print(loss)\n",
    "def train(model, loader, loss_fn, optimizer):\n",
    "    model.train()\n",
    "    for i, data in enumerate(loader):\n",
    "        features = get_dataset_items(data, FEATURES)\n",
    "        labels = get_dataset_items(data, LABELS)\n",
    "\n",
    "        # Compute prediction and loss\n",
    "        pred = model(features)\n",
    "        print(features.shape)\n",
    "        print(pred.shape)\n",
    "        print(labels.flatten(2, 3).squeeze().shape)\n",
    "        loss = loss_fn(pred, labels.flatten(2, 3).squeeze())\n",
    "    \n",
    "        # Backpropagation\n",
    "        loss.backward()\n",
    "        optimizer.step()\n",
    "        optimizer.zero_grad()\n",
    "    \n",
    "        # if i % 100 == 0:\n",
    "        loss, current = loss.item(), i * BATCH_SIZE + len(features)\n",
    "        print(f\"loss: {loss:>7f}\")\n",
    "    return pred\n",
    "for t in range(1):\n",
    "    print(f'Epoch {t+1}\\n')\n",
    "    # pred = train(model, train_loader, loss_fn, optimizer)\n",
    "    pred = labels\n",
    "    # pred = pred.reshape(pred.shape[0], 1, 64, 64)\n",
    "    # test_pred = test(model, test_loader, loss_fn)\n"
   ],
   "metadata": {
    "collapsed": false,
    "ExecuteTime": {
     "end_time": "2024-12-01T21:00:06.512056183Z",
     "start_time": "2024-12-01T21:00:05.922028087Z"
    }
   },
   "id": "4ebf3dc8e32ef5ed",
   "execution_count": 10
  },
  {
   "cell_type": "code",
   "outputs": [],
   "source": [
    "# visualize features and labels\n",
    "\n",
    "rows = 5\n",
    "cols = 14\n",
    "CMAP = colors.ListedColormap(['black', 'silver', 'orangered'])\n",
    "BOUNDS = [-1, -0.1, 0.001, 1]\n",
    "NORM = colors.BoundaryNorm(BOUNDS, CMAP.N)\n",
    "\n",
    "TITLES = [\n",
    "    'Elevation',\n",
    "    'Wind Direction',\n",
    "    'Wind Velocity',\n",
    "    'Min Temperature',\n",
    "    'Max Temperature',\n",
    "    'Humidity',\n",
    "    'Precip',\n",
    "    'Drought',\n",
    "    'Vegetation',\n",
    "    'Population Density',\n",
    "    'Energy Release Component',\n",
    "    'Previous Fire Mask',\n",
    "    'True Fire Mask',\n",
    "    'Predicted Fire Mask',\n",
    "]"
   ],
   "metadata": {
    "collapsed": false,
    "ExecuteTime": {
     "end_time": "2024-12-01T21:00:06.522240896Z",
     "start_time": "2024-12-01T21:00:06.502907726Z"
    }
   },
   "id": "c48db28b47459eb0",
   "execution_count": 11
  },
  {
   "cell_type": "code",
   "outputs": [],
   "source": [
    "fig = plt.figure(figsize=(15,6.5))\n",
    "fig.suptitle(\"Visualizations\", fontsize=20)\n",
    "# samples\n",
    "for i in range(rows):\n",
    "    # features and labels\n",
    "    plots = torch.cat((features[i], labels[i], pred[i]), dim=0)\n",
    "    for j, plot in enumerate(plots):\n",
    "        plot = plot.detach().numpy()\n",
    "        plt.subplot(rows, cols, i*cols+j+1)\n",
    "        if i==0:\n",
    "            title = TITLES[j].replace(' ', '\\n')\n",
    "            plt.title(title)\n",
    "        if j >= cols-3:\n",
    "            plt.imshow(plot, cmap=CMAP, norm=NORM)\n",
    "        else:\n",
    "            plt.imshow(plot, cmap='viridis')          \n",
    "        plt.axis('off')\n",
    "plt.tight_layout()"
   ],
   "metadata": {
    "collapsed": false,
    "is_executing": true,
    "ExecuteTime": {
     "start_time": "2024-12-01T21:00:06.516578491Z"
    }
   },
   "id": "db7eb76b644110b5",
   "execution_count": null
  },
  {
   "cell_type": "code",
   "outputs": [],
   "source": [
    "print(labels[1].min())"
   ],
   "metadata": {
    "collapsed": false,
    "is_executing": true
   },
   "id": "97862b095b20d964",
   "execution_count": null
  },
  {
   "cell_type": "code",
   "outputs": [],
   "source": [],
   "metadata": {
    "collapsed": false,
    "is_executing": true
   },
   "id": "a5010107e090ebee"
  }
 ],
 "metadata": {
  "kernelspec": {
   "display_name": "Python 3",
   "language": "python",
   "name": "python3"
  },
  "language_info": {
   "codemirror_mode": {
    "name": "ipython",
    "version": 2
   },
   "file_extension": ".py",
   "mimetype": "text/x-python",
   "name": "python",
   "nbconvert_exporter": "python",
   "pygments_lexer": "ipython2",
   "version": "2.7.6"
  }
 },
 "nbformat": 4,
 "nbformat_minor": 5
}
